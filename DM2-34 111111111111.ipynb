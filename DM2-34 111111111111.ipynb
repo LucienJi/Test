{
 "cells": [
  {
   "cell_type": "code",
   "execution_count": 14,
   "metadata": {},
   "outputs": [
    {
     "data": {
      "text/html": [
       "<div>\n",
       "<style scoped>\n",
       "    .dataframe tbody tr th:only-of-type {\n",
       "        vertical-align: middle;\n",
       "    }\n",
       "\n",
       "    .dataframe tbody tr th {\n",
       "        vertical-align: top;\n",
       "    }\n",
       "\n",
       "    .dataframe thead th {\n",
       "        text-align: right;\n",
       "    }\n",
       "</style>\n",
       "<table border=\"1\" class=\"dataframe\">\n",
       "  <thead>\n",
       "    <tr style=\"text-align: right;\">\n",
       "      <th></th>\n",
       "      <th>Survived</th>\n",
       "      <th>Pclass</th>\n",
       "      <th>Age</th>\n",
       "      <th>SibSp</th>\n",
       "      <th>Parch</th>\n",
       "      <th>Fare</th>\n",
       "    </tr>\n",
       "  </thead>\n",
       "  <tbody>\n",
       "    <tr>\n",
       "      <th>count</th>\n",
       "      <td>891.000000</td>\n",
       "      <td>891.000000</td>\n",
       "      <td>714.000000</td>\n",
       "      <td>891.000000</td>\n",
       "      <td>891.000000</td>\n",
       "      <td>891.000000</td>\n",
       "    </tr>\n",
       "    <tr>\n",
       "      <th>mean</th>\n",
       "      <td>0.383838</td>\n",
       "      <td>2.308642</td>\n",
       "      <td>29.699118</td>\n",
       "      <td>0.523008</td>\n",
       "      <td>0.381594</td>\n",
       "      <td>32.204208</td>\n",
       "    </tr>\n",
       "    <tr>\n",
       "      <th>std</th>\n",
       "      <td>0.486592</td>\n",
       "      <td>0.836071</td>\n",
       "      <td>14.526497</td>\n",
       "      <td>1.102743</td>\n",
       "      <td>0.806057</td>\n",
       "      <td>49.693429</td>\n",
       "    </tr>\n",
       "    <tr>\n",
       "      <th>min</th>\n",
       "      <td>0.000000</td>\n",
       "      <td>1.000000</td>\n",
       "      <td>0.420000</td>\n",
       "      <td>0.000000</td>\n",
       "      <td>0.000000</td>\n",
       "      <td>0.000000</td>\n",
       "    </tr>\n",
       "    <tr>\n",
       "      <th>25%</th>\n",
       "      <td>0.000000</td>\n",
       "      <td>2.000000</td>\n",
       "      <td>20.125000</td>\n",
       "      <td>0.000000</td>\n",
       "      <td>0.000000</td>\n",
       "      <td>7.910400</td>\n",
       "    </tr>\n",
       "    <tr>\n",
       "      <th>50%</th>\n",
       "      <td>0.000000</td>\n",
       "      <td>3.000000</td>\n",
       "      <td>28.000000</td>\n",
       "      <td>0.000000</td>\n",
       "      <td>0.000000</td>\n",
       "      <td>14.454200</td>\n",
       "    </tr>\n",
       "    <tr>\n",
       "      <th>75%</th>\n",
       "      <td>1.000000</td>\n",
       "      <td>3.000000</td>\n",
       "      <td>38.000000</td>\n",
       "      <td>1.000000</td>\n",
       "      <td>0.000000</td>\n",
       "      <td>31.000000</td>\n",
       "    </tr>\n",
       "    <tr>\n",
       "      <th>max</th>\n",
       "      <td>1.000000</td>\n",
       "      <td>3.000000</td>\n",
       "      <td>80.000000</td>\n",
       "      <td>8.000000</td>\n",
       "      <td>6.000000</td>\n",
       "      <td>512.329200</td>\n",
       "    </tr>\n",
       "  </tbody>\n",
       "</table>\n",
       "</div>"
      ],
      "text/plain": [
       "         Survived      Pclass         Age       SibSp       Parch        Fare\n",
       "count  891.000000  891.000000  714.000000  891.000000  891.000000  891.000000\n",
       "mean     0.383838    2.308642   29.699118    0.523008    0.381594   32.204208\n",
       "std      0.486592    0.836071   14.526497    1.102743    0.806057   49.693429\n",
       "min      0.000000    1.000000    0.420000    0.000000    0.000000    0.000000\n",
       "25%      0.000000    2.000000   20.125000    0.000000    0.000000    7.910400\n",
       "50%      0.000000    3.000000   28.000000    0.000000    0.000000   14.454200\n",
       "75%      1.000000    3.000000   38.000000    1.000000    0.000000   31.000000\n",
       "max      1.000000    3.000000   80.000000    8.000000    6.000000  512.329200"
      ]
     },
     "execution_count": 14,
     "metadata": {},
     "output_type": "execute_result"
    }
   ],
   "source": [
    "import pandas as pd\n",
    "import numpy as np \n",
    "from scipy.stats import t\n",
    "import scipy \n",
    "from sklearn import preprocessing\n",
    "import statsmodels.api as sm\n",
    "data = pd.read_csv ('Titanic.csv')\n",
    "data.drop('Cabin',1,inplace=True)\n",
    "data.drop('PassengerId',1,inplace=True)\n",
    "data.drop('Ticket',1,inplace=True)\n",
    "data.drop('Embarked',1,inplace=True)\n",
    "data.describe()"
   ]
  },
  {
   "cell_type": "code",
   "execution_count": 15,
   "metadata": {},
   "outputs": [
    {
     "data": {
      "text/html": [
       "<div>\n",
       "<style scoped>\n",
       "    .dataframe tbody tr th:only-of-type {\n",
       "        vertical-align: middle;\n",
       "    }\n",
       "\n",
       "    .dataframe tbody tr th {\n",
       "        vertical-align: top;\n",
       "    }\n",
       "\n",
       "    .dataframe thead th {\n",
       "        text-align: right;\n",
       "    }\n",
       "</style>\n",
       "<table border=\"1\" class=\"dataframe\">\n",
       "  <thead>\n",
       "    <tr style=\"text-align: right;\">\n",
       "      <th></th>\n",
       "      <th>Survived</th>\n",
       "      <th>Pclass</th>\n",
       "      <th>Age</th>\n",
       "      <th>SibSp</th>\n",
       "      <th>Parch</th>\n",
       "      <th>Fare</th>\n",
       "    </tr>\n",
       "  </thead>\n",
       "  <tbody>\n",
       "    <tr>\n",
       "      <th>count</th>\n",
       "      <td>891.000000</td>\n",
       "      <td>891.000000</td>\n",
       "      <td>891.000000</td>\n",
       "      <td>891.000000</td>\n",
       "      <td>891.000000</td>\n",
       "      <td>891.000000</td>\n",
       "    </tr>\n",
       "    <tr>\n",
       "      <th>mean</th>\n",
       "      <td>0.383838</td>\n",
       "      <td>2.308642</td>\n",
       "      <td>29.699118</td>\n",
       "      <td>0.523008</td>\n",
       "      <td>0.381594</td>\n",
       "      <td>32.204208</td>\n",
       "    </tr>\n",
       "    <tr>\n",
       "      <th>std</th>\n",
       "      <td>0.486592</td>\n",
       "      <td>0.836071</td>\n",
       "      <td>13.002015</td>\n",
       "      <td>1.102743</td>\n",
       "      <td>0.806057</td>\n",
       "      <td>49.693429</td>\n",
       "    </tr>\n",
       "    <tr>\n",
       "      <th>min</th>\n",
       "      <td>0.000000</td>\n",
       "      <td>1.000000</td>\n",
       "      <td>0.420000</td>\n",
       "      <td>0.000000</td>\n",
       "      <td>0.000000</td>\n",
       "      <td>0.000000</td>\n",
       "    </tr>\n",
       "    <tr>\n",
       "      <th>25%</th>\n",
       "      <td>0.000000</td>\n",
       "      <td>2.000000</td>\n",
       "      <td>22.000000</td>\n",
       "      <td>0.000000</td>\n",
       "      <td>0.000000</td>\n",
       "      <td>7.910400</td>\n",
       "    </tr>\n",
       "    <tr>\n",
       "      <th>50%</th>\n",
       "      <td>0.000000</td>\n",
       "      <td>3.000000</td>\n",
       "      <td>29.699118</td>\n",
       "      <td>0.000000</td>\n",
       "      <td>0.000000</td>\n",
       "      <td>14.454200</td>\n",
       "    </tr>\n",
       "    <tr>\n",
       "      <th>75%</th>\n",
       "      <td>1.000000</td>\n",
       "      <td>3.000000</td>\n",
       "      <td>35.000000</td>\n",
       "      <td>1.000000</td>\n",
       "      <td>0.000000</td>\n",
       "      <td>31.000000</td>\n",
       "    </tr>\n",
       "    <tr>\n",
       "      <th>max</th>\n",
       "      <td>1.000000</td>\n",
       "      <td>3.000000</td>\n",
       "      <td>80.000000</td>\n",
       "      <td>8.000000</td>\n",
       "      <td>6.000000</td>\n",
       "      <td>512.329200</td>\n",
       "    </tr>\n",
       "  </tbody>\n",
       "</table>\n",
       "</div>"
      ],
      "text/plain": [
       "         Survived      Pclass         Age       SibSp       Parch        Fare\n",
       "count  891.000000  891.000000  891.000000  891.000000  891.000000  891.000000\n",
       "mean     0.383838    2.308642   29.699118    0.523008    0.381594   32.204208\n",
       "std      0.486592    0.836071   13.002015    1.102743    0.806057   49.693429\n",
       "min      0.000000    1.000000    0.420000    0.000000    0.000000    0.000000\n",
       "25%      0.000000    2.000000   22.000000    0.000000    0.000000    7.910400\n",
       "50%      0.000000    3.000000   29.699118    0.000000    0.000000   14.454200\n",
       "75%      1.000000    3.000000   35.000000    1.000000    0.000000   31.000000\n",
       "max      1.000000    3.000000   80.000000    8.000000    6.000000  512.329200"
      ]
     },
     "execution_count": 15,
     "metadata": {},
     "output_type": "execute_result"
    }
   ],
   "source": [
    "age=data['Age']\n",
    "averge_age=np.nanmean(age)\n",
    "data['Age'].fillna(value=averge_age,axis=0,inplace=True);\n",
    "data.dropna(axis=1,inplace=True)\n",
    "data.describe()"
   ]
  },
  {
   "cell_type": "markdown",
   "metadata": {},
   "source": [
    "# 1"
   ]
  },
  {
   "cell_type": "code",
   "execution_count": 17,
   "metadata": {},
   "outputs": [
    {
     "name": "stdout",
     "output_type": "stream",
     "text": [
      "Pourcentage de décès: 0.6161616161616161\n",
      "Nombre de décès: 549\n"
     ]
    }
   ],
   "source": [
    "print(\"Pourcentage de décès:\",1-data['Survived'].mean())\n",
    "print(\"Nombre de décès:\", data['Survived'].count() - data['Survived'].sum())"
   ]
  },
  {
   "cell_type": "markdown",
   "metadata": {},
   "source": [
    "# 2"
   ]
  },
  {
   "cell_type": "code",
   "execution_count": 18,
   "metadata": {},
   "outputs": [
    {
     "name": "stdout",
     "output_type": "stream",
     "text": [
      "Pourcentage de homme parmi les survivants: 0.31871345029239767\n",
      "Pourcentage de femme parmi les survivants: 0.6812865497076024\n",
      "Pourcentage de homme parmi les morts: 0.8524590163934426\n",
      "Pourcentage de femme parmi les morts: 0.14754098360655737\n"
     ]
    }
   ],
   "source": [
    "survie=data[data['Survived']==1]\n",
    "mort=data[data['Survived']==0]\n",
    "hs=survie[survie['Sex']=='male']['Sex'].count()/survie['Sex'].count()\n",
    "ms=survie[survie['Sex']=='female']['Sex'].count()/survie['Sex'].count()\n",
    "hm=mort[mort['Sex']=='male']['Sex'].count()/mort['Sex'].count()\n",
    "mm=mort[mort['Sex']=='female']['Sex'].count()/mort['Sex'].count()\n",
    "print(\"Pourcentage de homme parmi les survivants:\",hs)\n",
    "print(\"Pourcentage de femme parmi les survivants:\",ms)\n",
    "print(\"Pourcentage de homme parmi les morts:\",hm)\n",
    "print(\"Pourcentage de femme parmi les morts:\",mm)"
   ]
  },
  {
   "cell_type": "markdown",
   "metadata": {},
   "source": [
    "On observe que la plupart des gens qui ont survécu sont les femmes,  \n",
    "et la plupart des gens qui sont morts sont les hommes."
   ]
  },
  {
   "cell_type": "markdown",
   "metadata": {},
   "source": [
    "# 3"
   ]
  },
  {
   "cell_type": "code",
   "execution_count": 19,
   "metadata": {},
   "outputs": [
    {
     "name": "stdout",
     "output_type": "stream",
     "text": [
      "Pourcentage de P1 parmi les vivants: 0.39766081871345027\n",
      "Pourcentage de P2 parmi les vivants: 0.2543859649122807\n",
      "Pourcentage de P3 parmi les vivants: 0.347953216374269\n",
      "Pourcentage de P1 parmi les morts: 0.14571948998178508\n",
      "Pourcentage de P2 parmi les morts: 0.1766848816029144\n",
      "Pourcentage de P3 parmi les morts: 0.6775956284153005\n"
     ]
    }
   ],
   "source": [
    "s1=survie[survie['Pclass']==1]['Pclass'].count()/survie['Pclass'].count()\n",
    "s2=survie[survie['Pclass']==2]['Pclass'].count()/survie['Pclass'].count()\n",
    "s3=survie[survie['Pclass']==3]['Pclass'].count()/survie['Pclass'].count()\n",
    "print(\"Pourcentage de P1 parmi les vivants:\",s1)\n",
    "print(\"Pourcentage de P2 parmi les vivants:\",s2)\n",
    "print(\"Pourcentage de P3 parmi les vivants:\",s3)\n",
    "m1=mort[mort['Pclass']==1]['Pclass'].count()/mort['Pclass'].count()\n",
    "m2=mort[mort['Pclass']==2]['Pclass'].count()/mort['Pclass'].count()\n",
    "m3=mort[mort['Pclass']==3]['Pclass'].count()/mort['Pclass'].count()\n",
    "print(\"Pourcentage de P1 parmi les morts:\",m1)\n",
    "print(\"Pourcentage de P2 parmi les morts:\",m2)\n",
    "print(\"Pourcentage de P3 parmi les morts:\",m3)"
   ]
  },
  {
   "cell_type": "markdown",
   "metadata": {},
   "source": [
    "Le taux de survie est plus élevé si on est P1, et moins élevé si on est P3."
   ]
  },
  {
   "cell_type": "markdown",
   "metadata": {},
   "source": [
    "# 4"
   ]
  },
  {
   "cell_type": "code",
   "execution_count": 20,
   "metadata": {
    "scrolled": true
   },
   "outputs": [
    {
     "data": {
      "text/html": [
       "<div>\n",
       "<style scoped>\n",
       "    .dataframe tbody tr th:only-of-type {\n",
       "        vertical-align: middle;\n",
       "    }\n",
       "\n",
       "    .dataframe tbody tr th {\n",
       "        vertical-align: top;\n",
       "    }\n",
       "\n",
       "    .dataframe thead th {\n",
       "        text-align: right;\n",
       "    }\n",
       "</style>\n",
       "<table border=\"1\" class=\"dataframe\">\n",
       "  <thead>\n",
       "    <tr style=\"text-align: right;\">\n",
       "      <th></th>\n",
       "      <th>Survived</th>\n",
       "      <th>Pclass</th>\n",
       "      <th>Age</th>\n",
       "      <th>SibSp</th>\n",
       "      <th>Parch</th>\n",
       "      <th>Fare</th>\n",
       "    </tr>\n",
       "  </thead>\n",
       "  <tbody>\n",
       "    <tr>\n",
       "      <th>Survived</th>\n",
       "      <td>1.000000</td>\n",
       "      <td>-0.338481</td>\n",
       "      <td>-0.069809</td>\n",
       "      <td>-0.035322</td>\n",
       "      <td>0.081629</td>\n",
       "      <td>0.257307</td>\n",
       "    </tr>\n",
       "    <tr>\n",
       "      <th>Pclass</th>\n",
       "      <td>-0.338481</td>\n",
       "      <td>1.000000</td>\n",
       "      <td>-0.331339</td>\n",
       "      <td>0.083081</td>\n",
       "      <td>0.018443</td>\n",
       "      <td>-0.549500</td>\n",
       "    </tr>\n",
       "    <tr>\n",
       "      <th>Age</th>\n",
       "      <td>-0.069809</td>\n",
       "      <td>-0.331339</td>\n",
       "      <td>1.000000</td>\n",
       "      <td>-0.232625</td>\n",
       "      <td>-0.179191</td>\n",
       "      <td>0.091566</td>\n",
       "    </tr>\n",
       "    <tr>\n",
       "      <th>SibSp</th>\n",
       "      <td>-0.035322</td>\n",
       "      <td>0.083081</td>\n",
       "      <td>-0.232625</td>\n",
       "      <td>1.000000</td>\n",
       "      <td>0.414838</td>\n",
       "      <td>0.159651</td>\n",
       "    </tr>\n",
       "    <tr>\n",
       "      <th>Parch</th>\n",
       "      <td>0.081629</td>\n",
       "      <td>0.018443</td>\n",
       "      <td>-0.179191</td>\n",
       "      <td>0.414838</td>\n",
       "      <td>1.000000</td>\n",
       "      <td>0.216225</td>\n",
       "    </tr>\n",
       "    <tr>\n",
       "      <th>Fare</th>\n",
       "      <td>0.257307</td>\n",
       "      <td>-0.549500</td>\n",
       "      <td>0.091566</td>\n",
       "      <td>0.159651</td>\n",
       "      <td>0.216225</td>\n",
       "      <td>1.000000</td>\n",
       "    </tr>\n",
       "  </tbody>\n",
       "</table>\n",
       "</div>"
      ],
      "text/plain": [
       "          Survived    Pclass       Age     SibSp     Parch      Fare\n",
       "Survived  1.000000 -0.338481 -0.069809 -0.035322  0.081629  0.257307\n",
       "Pclass   -0.338481  1.000000 -0.331339  0.083081  0.018443 -0.549500\n",
       "Age      -0.069809 -0.331339  1.000000 -0.232625 -0.179191  0.091566\n",
       "SibSp    -0.035322  0.083081 -0.232625  1.000000  0.414838  0.159651\n",
       "Parch     0.081629  0.018443 -0.179191  0.414838  1.000000  0.216225\n",
       "Fare      0.257307 -0.549500  0.091566  0.159651  0.216225  1.000000"
      ]
     },
     "execution_count": 20,
     "metadata": {},
     "output_type": "execute_result"
    }
   ],
   "source": [
    "data.corr()"
   ]
  },
  {
   "cell_type": "markdown",
   "metadata": {},
   "source": [
    "Plus on paye, plus il y a de chances qu'on puisse survivre.  \n",
    "Plus on a de frères et soeurs à bord, moins il y a de chances qu'on puisse survivre.   \n",
    "Plus de parents / enfants à bord, plus il y a de chances qu'on puisse survivre. \n",
    "Plus on est agé, moins il y a de chances qu'on puisse survivre. "
   ]
  },
  {
   "cell_type": "markdown",
   "metadata": {},
   "source": [
    "# 5"
   ]
  },
  {
   "cell_type": "code",
   "execution_count": 21,
   "metadata": {},
   "outputs": [
    {
     "name": "stdout",
     "output_type": "stream",
     "text": [
      "False\n",
      "False\n",
      "True\n",
      "Optimization terminated successfully.\n",
      "         Current function value: 0.442607\n",
      "         Iterations 6\n",
      "                           Logit Regression Results                           \n",
      "==============================================================================\n",
      "Dep. Variable:                      y   No. Observations:                  891\n",
      "Model:                          Logit   Df Residuals:                      884\n",
      "Method:                           MLE   Df Model:                            6\n",
      "Date:                Tue, 06 Oct 2020   Pseudo R-squ.:                  0.3353\n",
      "Time:                        17:01:24   Log-Likelihood:                -394.36\n",
      "converged:                       True   LL-Null:                       -593.33\n",
      "Covariance Type:            nonrobust   LLR p-value:                 7.794e-83\n",
      "==============================================================================\n",
      "                 coef    std err          z      P>|z|      [0.025      0.975]\n",
      "------------------------------------------------------------------------------\n",
      "const         -0.5654      0.506     -1.118      0.263      -1.556       0.425\n",
      "x1             2.7629      0.199     13.883      0.000       2.373       3.153\n",
      "x2            -1.0843      0.139     -7.794      0.000      -1.357      -0.812\n",
      "x3            -0.0397      0.008     -5.092      0.000      -0.055      -0.024\n",
      "x4            -0.3507      0.110     -3.201      0.001      -0.565      -0.136\n",
      "x5            -0.1120      0.117     -0.954      0.340      -0.342       0.118\n",
      "x6             0.0029      0.002      1.208      0.227      -0.002       0.007\n",
      "==============================================================================\n"
     ]
    }
   ],
   "source": [
    "data=data.replace({'male':1,'female':2})\n",
    "Y=np.array(data['Survived'])\n",
    "print(data[['Sex','Pclass','Age','SibSp','Parch','Fare']].isnull().values.any())  #non nan?\n",
    "X=np.array(data[['Sex','Pclass','Age','SibSp','Parch','Fare']])\n",
    "X=sm.add_constant(X)\n",
    "print(np.isnan(X).any())\n",
    "print(np.isfinite(X.all()))                                                 #OK, il y a infinity\n",
    "#X=preprocessing.MinMaxScaler().fit_transform(X.T).T                         #regularization\n",
    "model = sm.Logit(Y,X,str='drop')                                            #mais drop est obligatoire ici\n",
    "result=model.fit()\n",
    "print(result.summary())"
   ]
  },
  {
   "cell_type": "markdown",
   "metadata": {},
   "source": [
    "On observe que Pseudo R-squ est petit donc notre model ne simule pas très bien le data.\n",
    "Mais avec les intervalles de confiance de 95% on peut voir la relation de corrélation."
   ]
  },
  {
   "cell_type": "markdown",
   "metadata": {},
   "source": [
    "# 6"
   ]
  },
  {
   "cell_type": "code",
   "execution_count": 174,
   "metadata": {},
   "outputs": [
    {
     "data": {
      "text/plain": [
       "array([  8.80011293e-10,   3.07551691e-14,   8.16912254e-09,\n",
       "         7.06967451e-03,   3.39637003e-02,   6.07195302e-02])"
      ]
     },
     "execution_count": 174,
     "metadata": {},
     "output_type": "execute_result"
    }
   ],
   "source": [
    "result.pvalues\n"
   ]
  },
  {
   "cell_type": "code",
   "execution_count": 175,
   "metadata": {},
   "outputs": [
    {
     "data": {
      "text/plain": [
       "0.033963700279919691"
      ]
     },
     "execution_count": 175,
     "metadata": {},
     "output_type": "execute_result"
    }
   ],
   "source": [
    "result.pvalues[-2]"
   ]
  },
  {
   "cell_type": "markdown",
   "metadata": {},
   "source": [
    " Donc c'est possible(3%) qu'on se trompe quand on rejet H0. Comparé avec les autres p valeurs, on voit que cet probabilité est assez elevé."
   ]
  },
  {
   "cell_type": "markdown",
   "metadata": {},
   "source": [
    "# 7"
   ]
  },
  {
   "cell_type": "code",
   "execution_count": 187,
   "metadata": {},
   "outputs": [
    {
     "name": "stdout",
     "output_type": "stream",
     "text": [
      "Optimization terminated successfully.\n",
      "         Current function value: 0.443106\n",
      "         Iterations 6\n",
      "                           Logit Regression Results                           \n",
      "==============================================================================\n",
      "Dep. Variable:                      y   No. Observations:                  891\n",
      "Model:                          Logit   Df Residuals:                      884\n",
      "Method:                           MLE   Df Model:                            6\n",
      "Date:                Sun, 04 Oct 2020   Pseudo R-squ.:                  0.3346\n",
      "Time:                        10:51:23   Log-Likelihood:                -394.81\n",
      "converged:                       True   LL-Null:                       -593.33\n",
      "                                        LLR p-value:                 1.210e-82\n",
      "==============================================================================\n",
      "                 coef    std err          z      P>|z|      [0.025      0.975]\n",
      "------------------------------------------------------------------------------\n",
      "const         -0.5439      0.531     -1.025      0.305      -1.584       0.496\n",
      "x1          6.581e-05      0.000      0.190      0.849      -0.001       0.001\n",
      "x2             2.7283      0.195     14.001      0.000       2.346       3.110\n",
      "x3            -1.0975      0.138     -7.952      0.000      -1.368      -0.827\n",
      "x4            -0.0394      0.008     -5.067      0.000      -0.055      -0.024\n",
      "x5            -0.3778      0.106     -3.557      0.000      -0.586      -0.170\n",
      "x6             0.0024      0.002      1.053      0.292      -0.002       0.007\n",
      "==============================================================================\n"
     ]
    }
   ],
   "source": [
    "Y2=np.array(data['Survived'])\n",
    "X2=np.array(data[['PassengerId','Sex','Pclass','Age','SibSp','Fare']])\n",
    "X2=sm.add_constant(X2)\n",
    "model2 = sm.Logit(Y2,X2,str='drop')                                            #mais drop est obligatoire ici\n",
    "result2=model2.fit()\n",
    "print(result2.summary())"
   ]
  },
  {
   "cell_type": "markdown",
   "metadata": {},
   "source": [
    "Les intervalles de confiances n'ont pas beaucoup changé."
   ]
  },
  {
   "cell_type": "markdown",
   "metadata": {},
   "source": [
    "# 8"
   ]
  },
  {
   "cell_type": "code",
   "execution_count": 179,
   "metadata": {},
   "outputs": [
    {
     "data": {
      "text/plain": [
       "0.022715823937205337"
      ]
     },
     "execution_count": 179,
     "metadata": {},
     "output_type": "execute_result"
    }
   ],
   "source": [
    "result.pvalues[-1]"
   ]
  },
  {
   "cell_type": "markdown",
   "metadata": {},
   "source": [
    "# 9"
   ]
  },
  {
   "cell_type": "code",
   "execution_count": 188,
   "metadata": {},
   "outputs": [
    {
     "name": "stdout",
     "output_type": "stream",
     "text": [
      "Optimization terminated successfully.\n",
      "         Current function value: 0.442568\n",
      "         Iterations 6\n",
      "                           Logit Regression Results                           \n",
      "==============================================================================\n",
      "Dep. Variable:                      y   No. Observations:                  891\n",
      "Model:                          Logit   Df Residuals:                      883\n",
      "Method:                           MLE   Df Model:                            7\n",
      "Date:                Sun, 04 Oct 2020   Pseudo R-squ.:                  0.3354\n",
      "Time:                        10:51:33   Log-Likelihood:                -394.33\n",
      "converged:                       True   LL-Null:                       -593.33\n",
      "                                        LLR p-value:                 6.408e-82\n",
      "==============================================================================\n",
      "                 coef    std err          z      P>|z|      [0.025      0.975]\n",
      "------------------------------------------------------------------------------\n",
      "const         -0.6132      0.537     -1.142      0.254      -1.666       0.440\n",
      "x1          9.173e-05      0.000      0.264      0.792      -0.001       0.001\n",
      "x2             2.7664      0.200     13.862      0.000       2.375       3.158\n",
      "x3            -1.0831      0.139     -7.780      0.000      -1.356      -0.810\n",
      "x4            -0.0397      0.008     -5.094      0.000      -0.055      -0.024\n",
      "x5            -0.3491      0.110     -3.184      0.001      -0.564      -0.134\n",
      "x6            -0.1144      0.118     -0.971      0.332      -0.345       0.117\n",
      "x7             0.0029      0.002      1.209      0.227      -0.002       0.008\n",
      "==============================================================================\n"
     ]
    }
   ],
   "source": [
    "Y3=np.array(data['Survived'])\n",
    "X3=np.array(data[['PassengerId','Sex','Pclass','Age','SibSp']])\n",
    "X3=sm.add_constant(X3)\n",
    "model3 = sm.Logit(Y3,X3,str='drop')                                            #mais drop est obligatoire ici\n",
    "result3=model.fit()\n",
    "print(result3.summary())"
   ]
  },
  {
   "cell_type": "markdown",
   "metadata": {},
   "source": [
    "# 10"
   ]
  },
  {
   "cell_type": "code",
   "execution_count": 209,
   "metadata": {},
   "outputs": [
    {
     "name": "stdout",
     "output_type": "stream",
     "text": [
      "Optimization terminated successfully.\n",
      "         Current function value: 0.443508\n",
      "         Iterations 6\n",
      "[-0.29498237  2.76818924 -1.1728475  -0.04010303 -0.33432562 -0.08162124]\n",
      "taux de survie de l 'homme 0.60302676821\n",
      "taux de survie de la femme 0.0870581023586\n"
     ]
    }
   ],
   "source": [
    "Y4=np.array(data['Survived'])\n",
    "X4=np.array(data[['Sex','Pclass','Age','SibSp','Parch']])\n",
    "X4=sm.add_constant(X4)\n",
    "model4 = sm.Logit(Y4,X4,str='drop')                                            #mais drop est obligatoire ici\n",
    "result4=model4.fit()\n",
    "print(result4.params)\n",
    "h=np.array([1,1,1,22,0,0])\n",
    "m=np.array([1,0,1,22,0,0])\n",
    "print(\"taux de survie de l 'homme\",1/(1+np.exp(-np.dot(h,result4.params))))\n",
    "print(\"taux de survie de la femme\",1/(1+np.exp(-np.dot(m,result4.params))))"
   ]
  },
  {
   "cell_type": "markdown",
   "metadata": {},
   "source": [
    "# 1"
   ]
  },
  {
   "cell_type": "code",
   "execution_count": 196,
   "metadata": {},
   "outputs": [
    {
     "name": "stdout",
     "output_type": "stream",
     "text": [
      "Help on BinaryResultsWrapper in module statsmodels.discrete.discrete_model object:\n",
      "\n",
      "class BinaryResultsWrapper(statsmodels.regression.linear_model.RegressionResultsWrapper)\n",
      " |  Class which wraps a statsmodels estimation Results class and steps in to\n",
      " |  reattach metadata to results (if available)\n",
      " |  \n",
      " |  Method resolution order:\n",
      " |      BinaryResultsWrapper\n",
      " |      statsmodels.regression.linear_model.RegressionResultsWrapper\n",
      " |      statsmodels.base.wrapper.ResultsWrapper\n",
      " |      builtins.object\n",
      " |  \n",
      " |  Methods defined here:\n",
      " |  \n",
      " |  conf_int(self, alpha=0.05, cols=None, method='default')\n",
      " |      conf_int(self, alpha=0.05, cols=None, method='default')\n",
      " |      \n",
      " |      Returns the confidence interval of the fitted parameters.\n",
      " |      \n",
      " |      Parameters\n",
      " |      ----------\n",
      " |      alpha : float, optional\n",
      " |          The significance level for the confidence interval.\n",
      " |          ie., The default `alpha` = .05 returns a 95% confidence interval.\n",
      " |      cols : array-like, optional\n",
      " |          `cols` specifies which confidence intervals to return\n",
      " |      method : string\n",
      " |          Not Implemented Yet\n",
      " |          Method to estimate the confidence_interval.\n",
      " |          \"Default\" : uses self.bse which is based on inverse Hessian for MLE\n",
      " |          \"hjjh\" :\n",
      " |          \"jac\" :\n",
      " |          \"boot-bse\"\n",
      " |          \"boot_quant\"\n",
      " |          \"profile\"\n",
      " |      \n",
      " |      \n",
      " |      Returns\n",
      " |      --------\n",
      " |      conf_int : array\n",
      " |          Each row contains [lower, upper] limits of the confidence interval\n",
      " |          for the corresponding parameter. The first column contains all\n",
      " |          lower, the second column contains all upper limits.\n",
      " |      \n",
      " |      Examples\n",
      " |      --------\n",
      " |      >>> import statsmodels.api as sm\n",
      " |      >>> data = sm.datasets.longley.load()\n",
      " |      >>> data.exog = sm.add_constant(data.exog)\n",
      " |      >>> results = sm.OLS(data.endog, data.exog).fit()\n",
      " |      >>> results.conf_int()\n",
      " |      array([[-5496529.48322745, -1467987.78596704],\n",
      " |             [    -177.02903529,      207.15277984],\n",
      " |             [      -0.1115811 ,        0.03994274],\n",
      " |             [      -3.12506664,       -0.91539297],\n",
      " |             [      -1.5179487 ,       -0.54850503],\n",
      " |             [      -0.56251721,        0.460309  ],\n",
      " |             [     798.7875153 ,     2859.51541392]])\n",
      " |      \n",
      " |      \n",
      " |      >>> results.conf_int(cols=(2,3))\n",
      " |      array([[-0.1115811 ,  0.03994274],\n",
      " |             [-3.12506664, -0.91539297]])\n",
      " |      \n",
      " |      Notes\n",
      " |      -----\n",
      " |      The confidence interval is based on the standard normal distribution.\n",
      " |      Models wish to use a different distribution should overwrite this\n",
      " |      method.\n",
      " |  \n",
      " |  cov_params(self, r_matrix=None, column=None, scale=None, cov_p=None, other=None)\n",
      " |      cov_params(self, r_matrix=None, column=None, scale=None, cov_p=None, other=None)\n",
      " |      \n",
      " |      Returns the variance/covariance matrix.\n",
      " |      \n",
      " |      The variance/covariance matrix can be of a linear contrast\n",
      " |      of the estimates of params or all params multiplied by scale which\n",
      " |      will usually be an estimate of sigma^2.  Scale is assumed to be\n",
      " |      a scalar.\n",
      " |      \n",
      " |      Parameters\n",
      " |      ----------\n",
      " |      r_matrix : array-like\n",
      " |          Can be 1d, or 2d.  Can be used alone or with other.\n",
      " |      column :  array-like, optional\n",
      " |          Must be used on its own.  Can be 0d or 1d see below.\n",
      " |      scale : float, optional\n",
      " |          Can be specified or not.  Default is None, which means that\n",
      " |          the scale argument is taken from the model.\n",
      " |      other : array-like, optional\n",
      " |          Can be used when r_matrix is specified.\n",
      " |      \n",
      " |      Returns\n",
      " |      -------\n",
      " |      cov : ndarray\n",
      " |          covariance matrix of the parameter estimates or of linear\n",
      " |          combination of parameter estimates. See Notes.\n",
      " |      \n",
      " |      Notes\n",
      " |      -----\n",
      " |      (The below are assumed to be in matrix notation.)\n",
      " |      \n",
      " |      If no argument is specified returns the covariance matrix of a model\n",
      " |      ``(scale)*(X.T X)^(-1)``\n",
      " |      \n",
      " |      If contrast is specified it pre and post-multiplies as follows\n",
      " |      ``(scale) * r_matrix (X.T X)^(-1) r_matrix.T``\n",
      " |      \n",
      " |      If contrast and other are specified returns\n",
      " |      ``(scale) * r_matrix (X.T X)^(-1) other.T``\n",
      " |      \n",
      " |      If column is specified returns\n",
      " |      ``(scale) * (X.T X)^(-1)[column,column]`` if column is 0d\n",
      " |      \n",
      " |      OR\n",
      " |      \n",
      " |      ``(scale) * (X.T X)^(-1)[column][:,column]`` if column is 1d\n",
      " |  \n",
      " |  ----------------------------------------------------------------------\n",
      " |  Methods inherited from statsmodels.base.wrapper.ResultsWrapper:\n",
      " |  \n",
      " |  __dir__(self)\n",
      " |      __dir__() -> list\n",
      " |      default dir() implementation\n",
      " |  \n",
      " |  __getattribute__(self, attr)\n",
      " |      Return getattr(self, name).\n",
      " |  \n",
      " |  __getstate__(self)\n",
      " |  \n",
      " |  __init__(self, results)\n",
      " |      Initialize self.  See help(type(self)) for accurate signature.\n",
      " |  \n",
      " |  __setstate__(self, dict_)\n",
      " |  \n",
      " |  save(self, fname, remove_data=False)\n",
      " |      save a pickle of this instance\n",
      " |      \n",
      " |      Parameters\n",
      " |      ----------\n",
      " |      fname : string or filehandle\n",
      " |          fname can be a string to a file path or filename, or a filehandle.\n",
      " |      remove_data : bool\n",
      " |          If False (default), then the instance is pickled without changes.\n",
      " |          If True, then all arrays with length nobs are set to None before\n",
      " |          pickling. See the remove_data method.\n",
      " |          In some cases not all arrays will be set to None.\n",
      " |  \n",
      " |  ----------------------------------------------------------------------\n",
      " |  Class methods inherited from statsmodels.base.wrapper.ResultsWrapper:\n",
      " |  \n",
      " |  load(fname) from builtins.type\n",
      " |  \n",
      " |  ----------------------------------------------------------------------\n",
      " |  Data descriptors inherited from statsmodels.base.wrapper.ResultsWrapper:\n",
      " |  \n",
      " |  __dict__\n",
      " |      dictionary for instance variables (if defined)\n",
      " |  \n",
      " |  __weakref__\n",
      " |      list of weak references to the object (if defined)\n",
      "\n"
     ]
    }
   ],
   "source": [
    "help(result3)"
   ]
  },
  {
   "cell_type": "code",
   "execution_count": null,
   "metadata": {
    "collapsed": true
   },
   "outputs": [],
   "source": []
  }
 ],
 "metadata": {
  "kernelspec": {
   "display_name": "Python 3",
   "language": "python",
   "name": "python3"
  },
  "language_info": {
   "codemirror_mode": {
    "name": "ipython",
    "version": 3
   },
   "file_extension": ".py",
   "mimetype": "text/x-python",
   "name": "python",
   "nbconvert_exporter": "python",
   "pygments_lexer": "ipython3",
   "version": "3.7.6"
  },
  "latex_envs": {
   "LaTeX_envs_menu_present": true,
   "autoclose": false,
   "autocomplete": true,
   "bibliofile": "biblio.bib",
   "cite_by": "apalike",
   "current_citInitial": 1,
   "eqLabelWithNumbers": true,
   "eqNumInitial": 1,
   "hotkeys": {
    "equation": "Ctrl-E",
    "itemize": "Ctrl-I"
   },
   "labels_anchors": false,
   "latex_user_defs": false,
   "report_style_numbering": false,
   "user_envs_cfg": false
  }
 },
 "nbformat": 4,
 "nbformat_minor": 2
}
